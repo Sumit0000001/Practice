{
 "cells": [
  {
   "cell_type": "code",
   "execution_count": null,
   "id": "427d2da4",
   "metadata": {},
   "outputs": [],
   "source": [
    "import requests\n",
    "r=requests.get('http')\n",
    "print(r.status_code)\n",
    "print(r.encodeing)\n",
    "print(r.text)\n",
    "a=(r.headers)\n",
    "print(a.['content-type'])\n",
    "print(type(r.text))"
   ]
  },
  {
   "cell_type": "code",
   "execution_count": null,
   "id": "997a18a3",
   "metadata": {},
   "outputs": [],
   "source": [
    "import json\n",
    "json_data= '{'Student':'Mohit'}'\n",
    "python_data=json.loads(json_data)\n",
    "print(python_data)\n",
    "print"
   ]
  },
  {
   "cell_type": "code",
   "execution_count": null,
   "id": "9f7e5966",
   "metadata": {},
   "outputs": [],
   "source": [
    "import requests\n",
    "import json\n",
    "r=requests.get('https://dog.ceo/api/breeds/list/all')\n",
    "a=r.json()\n",
    "print(a)\n",
    "for i in a['message'.values]:\n",
    "    print(i)"
   ]
  },
  {
   "cell_type": "code",
   "execution_count": null,
   "id": "7c3167d8",
   "metadata": {},
   "outputs": [],
   "source": [
    "import requests\n",
    "\n",
    "r = requests.get('https://api.codingninjas.com/api/v3/courses')\n",
    "d = r.json()\n",
    "df = d['data']['courses']\n",
    "# print(df)\n",
    "for i in df:\n",
    "\n",
    "         print(i['online_title'])"
   ]
  },
  {
   "cell_type": "markdown",
   "id": "f4e35500",
   "metadata": {},
   "source": [
    "Coding ninjas Solution"
   ]
  },
  {
   "cell_type": "code",
   "execution_count": null,
   "id": "55bb7676",
   "metadata": {},
   "outputs": [],
   "source": [
    "import requests as rq\n",
    "url = \"https://codingninjas.in/api/v3/events\"\n",
    "r=rq.get(url)\n",
    "print(r.status_code)\n",
    "print(r.encoding)\n",
    "# print(r.text)\n",
    "print(type(r.headers))\n",
    "# print(r.headers)\n",
    "a=r.headers\n",
    "print(a['Connection'])"
   ]
  },
  {
   "cell_type": "code",
   "execution_count": null,
   "id": "6891cd4c",
   "metadata": {},
   "outputs": [],
   "source": [
    "## Print the required output in given format\n",
    "import requests\n",
    "import json\n",
    "URL = 'https://dog.ceo/api/breeds/list/all'\n",
    "r=requests.get(URL)\n",
    "python_dict = r.json()\n",
    "for key, value in python_dict['message'].items():\n",
    "    print(*value)\n"
   ]
  },
  {
   "cell_type": "code",
   "execution_count": null,
   "id": "e7541bd1",
   "metadata": {},
   "outputs": [],
   "source": [
    "import requests\n",
    "\n",
    "url = \"https://api.codingninjas.com/api/v3/events?event_category=ALL_EVENTS&event_sub_category=All%20Time%20Favorites&tag_list=&offset=0&_ga=2.121753283.990493116.1681918909-753419443.1673852018\"\n",
    "response = requests.get(url)\n",
    "data = response.json()\n",
    "\n",
    "if not data['data']['events']:\n",
    "    print(\"No Events!\")\n",
    "else:\n",
    "    # Print the description of the first event\n",
    "    first_event = data['data']['events'][0]\n",
    "    print(first_event['short_desc'])\n"
   ]
  },
  {
   "cell_type": "code",
   "execution_count": null,
   "id": "64905e1e",
   "metadata": {},
   "outputs": [],
   "source": [
    "# # arr=[1,2,3]\n",
    "# # def infinite_array(arr):\n",
    "# #     i = 0\n",
    "# #     while True:\n",
    "# #         yield arr[i % len(arr)]\n",
    "# #         i += 1\n",
    "# # arr = [1, 2, 3]\n",
    "# # inf_arr = infinite_array(arr)\n",
    "\n",
    "# # for i in range(100):\n",
    "# #     print(next(inf_arr),end=',')\n",
    "# arr = [1, 2, 3]\n",
    "# L=int(input())\n",
    "# R=int(input())\n",
    "# inf_arr = []\n",
    "# inf_len = R\n",
    "# sum=0\n",
    "\n",
    "# i = 0\n",
    "# while len(inf_arr) < R+2:\n",
    "#     inf_arr.append(arr[i % len(arr)])\n",
    "#     i += 1\n",
    "# print(inf_arr)\n",
    "# for i in range(L-1,R):\n",
    "#     sum+=inf_arr[i]\n",
    "# print(sum)\n",
    "    \n",
    "# def sumInRanges(arr, n, queries, q):\n",
    "#     inf_arr = []\n",
    "#     L=queries[0]\n",
    "#     R=queries[1]\n",
    "#     sum=0\n",
    "\n",
    "#     i = 0\n",
    "#     while len(inf_arr) < R+2:\n",
    "#         inf_arr.append(arr[i % len(arr)])\n",
    "#         i += 1\n",
    "# #         print(inf_arr)\n",
    "#     for i in range(L-1,R):\n",
    "#         sum+=inf_arr[i]\n",
    "#     return sum\n",
    "\n",
    "\n",
    "def sumInRanges(arr, n, queries, q):\n",
    "    inf_arr = []\n",
    "    for query in queries:\n",
    "        L,R=query\n",
    "    sum=0\n",
    "    ans=[]\n",
    "    i = 0\n",
    "    while q:\n",
    "        while i < R+2:\n",
    "            inf_arr.append(arr[i % len(arr)])\n",
    "            i += 1\n",
    "            # print(inf_arr)\n",
    "        for i in range(L-1,R):\n",
    "            sum+=inf_arr[i]\n",
    "        ans.append(sum)\n",
    "    return ans\n",
    "\n",
    "    \n",
    "\n",
    "t = int(input())\n",
    "# iterate through all the test cases\n",
    "for i in range(t):\n",
    "    # read the size of the array A\n",
    "    n = int(input())\n",
    "    # read the array A\n",
    "    arr = list(map(int, input().split()))\n",
    "    # read the number of queries\n",
    "    q = int(input())\n",
    "    # iterate through all the queries\n",
    "    for j in range(q):\n",
    "        # read the left and right index of the infinite array B\n",
    "        queries = map(int, queries.split())\n",
    "        # calculate the sum of the infinite array B\n",
    "        print(sumInRanges(arr, n, queries, q))\n",
    "\n",
    "\n"
   ]
  },
  {
   "cell_type": "code",
   "execution_count": null,
   "id": "50017167",
   "metadata": {},
   "outputs": [],
   "source": [
    "\n",
    "12 14 53\n",
    "2\n",
    "1 5\n",
    "4 8\n",
    "4\n",
    "5 5 55 5\n",
    "1\n",
    "1 11\n",
    "5\n",
    "98 7 985 65 5\n",
    "3\n",
    "1 3 \n",
    "1 33\n",
    "4 6\n",
    "6\n",
    "1 20 2 6 81 2\n",
    "2\n",
    "7 12\n",
    "6 11\n",
    "7\n",
    "98 65 32 2 32 4 7\n",
    "1\n",
    "1 7n=4\n",
    "for i in range(n):\n",
    "    for s in range(i):\n",
    "        print(' ',end=' ')\n",
    "    for j in range(n-i):\n",
    "        print('*',end=' ')\n",
    "    print()"
   ]
  },
  {
   "cell_type": "code",
   "execution_count": null,
   "id": "cc275554",
   "metadata": {},
   "outputs": [],
   "source": [
    "def gcd(x, y):\n",
    "    while y:\n",
    "        x,y=y, x%y\n",
    "    return x\n",
    "print(gcd(20,15))"
   ]
  },
  {
   "cell_type": "code",
   "execution_count": 3,
   "id": "52e659b3",
   "metadata": {},
   "outputs": [
    {
     "name": "stdout",
     "output_type": "stream",
     "text": [
      "Machine Learning\n"
     ]
    }
   ],
   "source": [
    "import requests\n",
    "\n",
    "url = \"http://api.codingninjas.com/api/v3/courses\"\n",
    "params = {\"id\": 19}\n",
    "response = requests.get(url, params=params)\n",
    "\n",
    "data = response.json()\n",
    "for course in data[\"data\"][\"courses\"]:\n",
    "    if course[\"id\"] == 19:\n",
    "        title = course[\"title\"]\n",
    "        print(title)\n",
    "        break\n"
   ]
  },
  {
   "cell_type": "code",
   "execution_count": 4,
   "id": "58923730",
   "metadata": {},
   "outputs": [
    {
     "name": "stdout",
     "output_type": "stream",
     "text": [
      "<Response [401]>\n"
     ]
    }
   ],
   "source": [
    "import requests\n",
    "url='https://api.openweathermap.org/data/2.5/weather'\n",
    "r=requests.get(url)\n",
    "print(r)"
   ]
  },
  {
   "cell_type": "code",
   "execution_count": 5,
   "id": "0b264397",
   "metadata": {},
   "outputs": [
    {
     "name": "stdout",
     "output_type": "stream",
     "text": [
      "<Response [200]>\n"
     ]
    }
   ],
   "source": [
    "import requests, json \n",
    "# base URL \n",
    "BASE_URL = \"https://api.openweathermap.org/data/2.5/weather?\" \n",
    "CITY = \"Hyderabad\" \n",
    "API_KEY = \"1396ff6fc250b7c4a34f67f747eee2eb\" \n",
    "# upadting the URL \n",
    "URL = BASE_URL + \"q=\" + CITY + \"&appid=\" + API_KEY \n",
    "# HTTP request \n",
    "response = requests.get(URL) \n",
    "print(response)"
   ]
  },
  {
   "cell_type": "code",
   "execution_count": null,
   "id": "84491168",
   "metadata": {},
   "outputs": [],
   "source": []
  }
 ],
 "metadata": {
  "kernelspec": {
   "display_name": "Python 3 (ipykernel)",
   "language": "python",
   "name": "python3"
  },
  "language_info": {
   "codemirror_mode": {
    "name": "ipython",
    "version": 3
   },
   "file_extension": ".py",
   "mimetype": "text/x-python",
   "name": "python",
   "nbconvert_exporter": "python",
   "pygments_lexer": "ipython3",
   "version": "3.9.13"
  }
 },
 "nbformat": 4,
 "nbformat_minor": 5
}
