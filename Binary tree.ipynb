{
 "cells": [
  {
   "cell_type": "code",
   "execution_count": null,
   "id": "7496760b",
   "metadata": {},
   "outputs": [],
   "source": [
    "class TreeNode:\n",
    "    def __init__(self,data):\n",
    "        self.data=data\n",
    "        self.left=None\n",
    "        self,right=None\n",
    "    def get_height(self,node):\n",
    "        if node is None:\n",
    "            return 0\n",
    "        return 1+ max(get_height(node.left),get_height(node.right))\n",
    "    def isBalanced(self,root):\n",
    "        if root is None:\n",
    "            return True\n",
    "        left_height=self.get_height(root.left)\n",
    "        right_height=self.get_height(root.right)\n",
    "        if abs(left_height - right_height)>1:\n",
    "            return False\n",
    "        return isBalanced(root.left) and isBalanced(root.right)\n",
    "    def diameter(self,root):\n",
    "        if root is None:\n",
    "            return 0\n",
    "        left_height=self.get_height(root.left)\n",
    "        right_height=self.get_height(root.right)\n",
    "        left_diameter= diameter(root.left)\n",
    "        right_diameter= diameter(root.right)\n",
    "        return max(left_height+right_height,max(left_diameter,right_diameter))\n",
    "        "
   ]
  },
  {
   "cell_type": "code",
   "execution_count": null,
   "id": "4c274112",
   "metadata": {},
   "outputs": [],
   "source": [
    "def searching(root,target):\n",
    "    if root is None:\n",
    "        return False\n",
    "    if root.data==target:\n",
    "        return True\n",
    "    if target>root.data:\n",
    "        return searching(root.right,target)\n",
    "    else:\n",
    "        return searching(root.left,target)\n",
    "        "
   ]
  },
  {
   "cell_type": "code",
   "execution_count": null,
   "id": "aa5175cb",
   "metadata": {},
   "outputs": [],
   "source": [
    "def find_path_iterative(root, target):\n",
    "    l = []\n",
    "    while root is not None:\n",
    "        l.append(root.val)\n",
    "        if root.val == target:\n",
    "            return l\n",
    "        elif root.val > target:\n",
    "            root = root.left\n",
    "        else:\n",
    "            root = root.right\n",
    "    return l"
   ]
  },
  {
   "cell_type": "code",
   "execution_count": null,
   "id": "b08577ca",
   "metadata": {},
   "outputs": [],
   "source": [
    "def findPath_recursive(root, node):\n",
    "    if root is None:\n",
    "        return []\n",
    "    \n",
    "    if root.val == node:\n",
    "        return [root.val]\n",
    "    \n",
    "    if node < root.val:\n",
    "        leftPath = findPath(root.left, node)\n",
    "        if leftPath:\n",
    "            return [root.val] + leftPath\n",
    "    \n",
    "    if node > root.val:\n",
    "        rightPath = findPath(root.right, node)\n",
    "        if rightPath:\n",
    "            return [root.val] + rightPath\n",
    "    \n",
    "    return []\n"
   ]
  },
  {
   "cell_type": "code",
   "execution_count": null,
   "id": "b9097f80",
   "metadata": {},
   "outputs": [],
   "source": [
    "\n",
    "def search_bst(root, target):\n",
    "    if root is None: \n",
    "        return False\n",
    "    if root.val == target:\n",
    "        return True\n",
    "    elif target < root.val:\n",
    "        return search_bst(root.left, target)\n",
    "    else:\n",
    "        return search_bst(root.right, target)"
   ]
  },
  {
   "cell_type": "code",
   "execution_count": null,
   "id": "98aabdd8",
   "metadata": {},
   "outputs": [],
   "source": [
    "def insert_node(root, key):\n",
    "    if root is None:\n",
    "        return Node(key)\n",
    "    if key < root.val:\n",
    "        root.left = insert_node(root.left, key)\n",
    "    else:\n",
    "        root.right = insert_node(root.right, key)\n",
    "    \n",
    "    return root"
   ]
  },
  {
   "cell_type": "code",
   "execution_count": null,
   "id": "c45e62db",
   "metadata": {},
   "outputs": [],
   "source": [
    "def deleteNode(root, key):\n",
    "    if root is None:\n",
    "        return root\n",
    "    if key < root.val:\n",
    "        root.left = deleteNode(root.left, key)\n",
    "    elif(key > root.val):\n",
    "        root.right = deleteNode(root.right, key)\n",
    "    else:\n",
    "        if root.left is None:\n",
    "            temp = root.right\n",
    "            root = None\n",
    "            return temp\n",
    "        elif root.right is None:\n",
    "            temp = root.left\n",
    "            root = None\n",
    "            return temp\n",
    "        temp = minValueNode(root.right)\n",
    "        root.val = temp.val\n",
    "        root.right = deleteNode(root.right, temp.val)\n",
    "    return root\n",
    "def minValueNode(node):\n",
    "    current = node\n",
    "    while(current.left is not None):\n",
    "        current = current.left\n",
    "    return current\n"
   ]
  }
 ],
 "metadata": {
  "kernelspec": {
   "display_name": "Python 3 (ipykernel)",
   "language": "python",
   "name": "python3"
  },
  "language_info": {
   "codemirror_mode": {
    "name": "ipython",
    "version": 3
   },
   "file_extension": ".py",
   "mimetype": "text/x-python",
   "name": "python",
   "nbconvert_exporter": "python",
   "pygments_lexer": "ipython3",
   "version": "3.9.13"
  }
 },
 "nbformat": 4,
 "nbformat_minor": 5
}
