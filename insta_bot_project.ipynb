{
 "cells": [
  {
   "cell_type": "code",
   "execution_count": null,
   "id": "4bf467e3",
   "metadata": {},
   "outputs": [],
   "source": [
    "from selenium import webdriver\n",
    "from selenium.webdriver.common.keys import Keys\n",
    "import time\n",
    "\n",
    "username = \"SAMPLE USERNAME\"\n",
    "password = \"SAMPLE PASSWORD\"\n",
    "\n",
    "browser = webdriver.Chrome()\n",
    "browser.get(\"https://www.instagram.com/accounts/login/\")\n",
    "\n",
    "time.sleep(2)\n",
    "\n",
    "username_input = browser.find_element_by_name(\"username\")\n",
    "username_input.send_keys(username)\n",
    "\n",
    "password_input = browser.find_element_by_name(\"password\")\n",
    "password_input.send_keys(password)\n",
    "\n",
    "login_button = browser.find_element_by_xpath(\"//button[@type='submit']\")\n",
    "login_button.click()\n",
    "\n",
    "time.sleep(3)\n"
   ]
  },
  {
   "cell_type": "code",
   "execution_count": null,
   "id": "9895b327",
   "metadata": {},
   "outputs": [],
   "source": [
    "search_bar = browser.find_element_by_xpath(\"//input[@placeholder='Search']\")\n",
    "search_bar.send_keys(\"food\")\n",
    "\n",
    "time.sleep(3)\n",
    "\n",
    "handles = browser.find_elements_by_class_name(\"yCE8d\")\n",
    "for handle in handles:\n",
    "    if \"#\" not in handle.text:\n",
    "        print(handle.text)\n"
   ]
  },
  {
   "cell_type": "code",
   "execution_count": null,
   "id": "9682de4e",
   "metadata": {},
   "outputs": [],
   "source": [
    "search_bar = browser.find_element_by_xpath(\"//input[@placeholder='Search']\")\n",
    "search_bar.send_keys(\"So Delhi\")\n",
    "\n",
    "time.sleep(3)\n",
    "\n",
    "so_delhi = browser.find_element_by_xpath(\"//span[@class='Ap253']\")\n",
    "so_delhi.click()\n",
    "\n",
    "time.sleep(3)\n"
   ]
  },
  {
   "cell_type": "code",
   "execution_count": null,
   "id": "4023b726",
   "metadata": {},
   "outputs": [],
   "source": [
    "# Follow So Delhi\n",
    "follow_button = browser.find_element_by_xpath(\"//button[contains(text(), 'Follow')]\")\n",
    "follow_button.click()\n",
    "\n",
    "time.sleep(3)\n",
    "\n",
    "# Unfollow So Delhi\n",
    "unfollow_button = browser.find_element_by_xpath(\"//button[contains(text(), 'Following')]\")\n",
    "unfollow_button.click()\n",
    "\n",
    "time.sleep(3)\n",
    "\n",
    "confirm_unfollow_button = browser.find_element_by_xpath(\"//button[contains(text(), 'Unfollow')]\")\n",
    "confirm_unfollow_button.click()\n",
    "\n",
    "time.sleep(3)\n"
   ]
  },
  {
   "cell_type": "code",
   "execution_count": null,
   "id": "d1ccd7aa",
   "metadata": {},
   "outputs": [],
   "source": []
  }
 ],
 "metadata": {
  "kernelspec": {
   "display_name": "Python 3 (ipykernel)",
   "language": "python",
   "name": "python3"
  },
  "language_info": {
   "codemirror_mode": {
    "name": "ipython",
    "version": 3
   },
   "file_extension": ".py",
   "mimetype": "text/x-python",
   "name": "python",
   "nbconvert_exporter": "python",
   "pygments_lexer": "ipython3",
   "version": "3.9.13"
  }
 },
 "nbformat": 4,
 "nbformat_minor": 5
}
